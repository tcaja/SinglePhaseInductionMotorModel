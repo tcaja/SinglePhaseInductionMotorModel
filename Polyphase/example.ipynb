{
 "cells": [
  {
   "cell_type": "code",
   "execution_count": 3,
   "metadata": {},
   "outputs": [],
   "source": [
    "import numpy as np\n",
    "from polyPhaseCircuit import poly_circuit\n",
    "\n",
    "motor_data = poly_circuit(\n",
    "    volts=460/np.sqrt(3),\n",
    "    ph=3,\n",
    "    x1=10.4944,\n",
    "    x2=7.1384,\n",
    "    xM=229.4160,\n",
    "    r1=8.8667,\n",
    "    r2=2.9103,\n",
    "    rfe=15771.7881,\n",
    "    f_w=15,\n",
    "    sync=1800\n",
    ")"
   ]
  }
 ],
 "metadata": {
  "kernelspec": {
   "display_name": "Python 3",
   "language": "python",
   "name": "python3"
  },
  "language_info": {
   "codemirror_mode": {
    "name": "ipython",
    "version": 3
   },
   "file_extension": ".py",
   "mimetype": "text/x-python",
   "name": "python",
   "nbconvert_exporter": "python",
   "pygments_lexer": "ipython3",
   "version": "3.10.8"
  }
 },
 "nbformat": 4,
 "nbformat_minor": 2
}
